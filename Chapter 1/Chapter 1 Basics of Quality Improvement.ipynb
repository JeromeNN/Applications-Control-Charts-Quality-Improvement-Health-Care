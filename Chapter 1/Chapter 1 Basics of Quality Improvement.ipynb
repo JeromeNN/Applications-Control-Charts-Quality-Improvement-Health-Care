{
 "cells": [
  {
   "cell_type": "code",
   "execution_count": 15,
   "metadata": {},
   "outputs": [
    {
     "name": "stdout",
     "output_type": "stream",
     "text": [
      "53.36144578313253 894.4531295915367 29.907409275822214\n"
     ]
    }
   ],
   "source": [
    "#Script 1.1\n",
    "#Python 3.6 has several modules that one could use to compute sample statistics.\n",
    "#One of these modules is Pandas that allows for the calculation of descriptive statistics as follows\n",
    "\n",
    "#import pandas\n",
    "from pandas import * \n",
    "#import your sample data from Excel. The column name in Excel is Defects. The Sheet name is Data.\n",
    "data = read_excel()#upload Chap1.xlsx data\n",
    "data = data.Defects\n",
    "#print the sample mean, variance, and standard deviation, respectively\n",
    "print (data.mean(), data.var(), data.std())\n"
   ]
  },
  {
   "cell_type": "code",
   "execution_count": null,
   "metadata": {},
   "outputs": [],
   "source": []
  },
  {
   "cell_type": "code",
   "execution_count": 20,
   "metadata": {},
   "outputs": [
    {
     "name": "stdout",
     "output_type": "stream",
     "text": [
      "0.024997895148220435\n"
     ]
    }
   ],
   "source": [
    "#Script 1.2\n",
    "#import norm from Scipy\n",
    "from scipy.stats import norm \n",
    "Z = -1.96#an example of a z-scoare\n",
    "#print the standard inverse of Z, which is a probability. \n",
    "print (norm.cdf(Z) )"
   ]
  },
  {
   "cell_type": "code",
   "execution_count": null,
   "metadata": {},
   "outputs": [],
   "source": []
  },
  {
   "cell_type": "code",
   "execution_count": 22,
   "metadata": {},
   "outputs": [
    {
     "data": {
      "image/png": "[encoded data removed]",
      "text/plain": [
       "<Figure size 432x288 with 1 Axes>"
      ]
     },
     "metadata": {
      "needs_background": "light"
     },
     "output_type": "display_data"
    }
   ],
   "source": [
    "#Script 1.3\n",
    "#import stats from scipy\n",
    "from scipy import stats \n",
    "import matplotlib.pyplot as plt #a plotting module\n",
    "import seaborn as sns # an optional module to prettify the plot\n",
    "fig = plt.figure()\n",
    "ax = fig.add_subplot(111)\n",
    "data = read_excel()#upload Chap1.xlsx data\n",
    "x= data.Defects\n",
    "stats.probplot(x, plot=ax)\n",
    "sns.despine(offset=10, trim=False)\n",
    "plt.show()\n"
   ]
  },
  {
   "cell_type": "code",
   "execution_count": null,
   "metadata": {},
   "outputs": [],
   "source": []
  },
  {
   "cell_type": "code",
   "execution_count": 25,
   "metadata": {},
   "outputs": [
    {
     "name": "stdout",
     "output_type": "stream",
     "text": [
      "3.8806266181512257 102.84226494811384\n"
     ]
    }
   ],
   "source": [
    "#Script 1.4\n",
    "#modules to import\n",
    "from scipy.stats import norm\n",
    "from scipy.stats import t\n",
    "from scipy.stats import chi2\n",
    "from numpy import *\n",
    "from pandas import *\n",
    "#an example for obtaining the confidence interval of mu when sigma is known\n",
    "data = read_excel(your directory) #import your sample data from Excel. The column name in Excel is Defects.\n",
    "data = data.Defects\n",
    "xbar = data.mean()\n",
    "sigma = 230#given\n",
    "alpha = 0.05#given (e.g., alpha = 0.05)\n",
    "Z = norm.ppf(1-alpha/2.)\n",
    "N = len(data)#sample number\n",
    "A = xbar -Z*sigma/sqrt(N)#lower confidence limit\n",
    "B = xbar +Z*sigma/sqrt(N)#upper confidence limit\n",
    "print (A, B)\n"
   ]
  },
  {
   "cell_type": "code",
   "execution_count": null,
   "metadata": {},
   "outputs": [],
   "source": []
  },
  {
   "cell_type": "code",
   "execution_count": 74,
   "metadata": {},
   "outputs": [
    {
     "name": "stdout",
     "output_type": "stream",
     "text": [
      "16.684320474405997\n",
      "0.8880425204560722\n"
     ]
    }
   ],
   "source": [
    "#Script 1.5\n",
    "#import tt_solve_power from statsmodels to run power test one sample t test\n",
    "from statsmodels.stats.power import tt_solve_power\n",
    "#https://www.statsmodels.org/stable/generated/statsmodels.stats.power.tt_ind_solve_power.html\n",
    "delta = 20#absolute difference given by mu1 - mu0 \n",
    "sigma = 50 #standard deviation\n",
    "power = 0.3354\n",
    "effect_size = delta/sigma\n",
    "alpha = 0.05\n",
    "#solve for the sample size, given the power\n",
    "sample_size = tt_solve_power(effect_size=effect_size, nobs= None, alpha=alpha, power=power, alternative='two-sided')\n",
    "print (sample_size)\n",
    "#solve for the power, given the sample size\n",
    "sample_size = 65\n",
    "sample_power = tt_solve_power(effect_size=effect_size, nobs= sample_size, alpha=alpha, power=None, alternative='two-sided')\n",
    "print (sample_power)"
   ]
  },
  {
   "cell_type": "code",
   "execution_count": null,
   "metadata": {},
   "outputs": [],
   "source": []
  },
  {
   "cell_type": "code",
   "execution_count": 77,
   "metadata": {},
   "outputs": [
    {
     "data": {
      "text/plain": [
       "(0.37998029782867504, 0.7039600402810595)"
      ]
     },
     "execution_count": 77,
     "metadata": {},
     "output_type": "execute_result"
    }
   ],
   "source": [
    "#Script 1.6\n",
    "#import modules\n",
    "from scipy import stats\n",
    "from statsmodels.stats import weightstats\n",
    "#https://www.statsmodels.org/stable/generated/statsmodels.stats.weightstats.ztest.html\n",
    "#https://www.statsmodels.org/stable/generated/statsmodels.stats.weightstats.ttest_ind.html\n",
    "#t-test returns (t-statistic, two-tailed p-value)(e.g., observation fewer than 30)\n",
    "x1 = [12,13,13,14,10,13,13,11,12,14] #array of the first dataset\n",
    "x2 = [9,14,11,14,9,14,12,11,13,15] #array of the second dataset\n",
    "equal_var = True#True if equal variances, otherwise False\n",
    "stats.ttest_ind(x1,x2, equal_var = equal_var)\n",
    "#Z-test returns (Z-statistic, two-tailed p-value) (e.g., observation more than 30)\n",
    "weightstats.ztest(x1, x2, alternative= 'two-sided', usevar='pooled', ddof=1.0)"
   ]
  },
  {
   "cell_type": "code",
   "execution_count": null,
   "metadata": {},
   "outputs": [],
   "source": []
  },
  {
   "cell_type": "code",
   "execution_count": 80,
   "metadata": {},
   "outputs": [
    {
     "name": "stdout",
     "output_type": "stream",
     "text": [
      "0.8298668194557057\n"
     ]
    }
   ],
   "source": [
    "#Script 1.7\n",
    "#import f from scipy.stats\n",
    "from scipy.stats import f\n",
    "alpha = 0.05\n",
    "var1 = 10 #variance of first variable\n",
    "var2 = 13 #variance of second variable\n",
    "df1 = 50 #degrees of freedom first variable\n",
    "df2 = 61 #degrees of freedom second variable\n",
    "F0 = var1 /var2 #F-statistic\n",
    "pvalue = 1-f.cdf(F0, df1, df2) #if p-value < alpha, reject null hypothesis\n",
    "print (pvalue)"
   ]
  },
  {
   "cell_type": "code",
   "execution_count": null,
   "metadata": {},
   "outputs": [],
   "source": []
  },
  {
   "cell_type": "code",
   "execution_count": 81,
   "metadata": {},
   "outputs": [
    {
     "name": "stdout",
     "output_type": "stream",
     "text": [
      "2.111111111111111\n",
      "0.773611531106542\n"
     ]
    }
   ],
   "source": [
    "#Script 1.8\n",
    "#import numpy\n",
    "import numpy as np\n",
    "x1 = [12,13,13,14,10,13,13,11,12,14] # first variable\n",
    "x2 = [9,14,11,14,9,14,12,11,13,15]  # second variable\n",
    "# print the covariance\n",
    "print(np.cov(x1, x2)[0][1])\n",
    "# print the correlation of coefficient\n",
    "print(np.corrcoef(x1, x2)[0][1])\n"
   ]
  },
  {
   "cell_type": "code",
   "execution_count": null,
   "metadata": {},
   "outputs": [],
   "source": []
  },
  {
   "cell_type": "code",
   "execution_count": 94,
   "metadata": {},
   "outputs": [
    {
     "data": {
      "text/html": [
       "<table class=\"simpletable\">\n",
       "<caption>OLS Regression Results</caption>\n",
       "<tr>\n",
       "  <th>Dep. Variable:</th>            <td>y</td>        <th>  R-squared:         </th> <td>   0.862</td>\n",
       "</tr>\n",
       "<tr>\n",
       "  <th>Model:</th>                   <td>OLS</td>       <th>  Adj. R-squared:    </th> <td>   0.806</td>\n",
       "</tr>\n",
       "<tr>\n",
       "  <th>Method:</th>             <td>Least Squares</td>  <th>  F-statistic:       </th> <td>   15.56</td>\n",
       "</tr>\n",
       "<tr>\n",
       "  <th>Date:</th>             <td>Wed, 19 Feb 2020</td> <th>  Prob (F-statistic):</th>  <td>0.00713</td>\n",
       "</tr>\n",
       "<tr>\n",
       "  <th>Time:</th>                 <td>10:54:42</td>     <th>  Log-Likelihood:    </th> <td> -24.316</td>\n",
       "</tr>\n",
       "<tr>\n",
       "  <th>No. Observations:</th>      <td>     8</td>      <th>  AIC:               </th> <td>   54.63</td>\n",
       "</tr>\n",
       "<tr>\n",
       "  <th>Df Residuals:</th>          <td>     5</td>      <th>  BIC:               </th> <td>   54.87</td>\n",
       "</tr>\n",
       "<tr>\n",
       "  <th>Df Model:</th>              <td>     2</td>      <th>                     </th>     <td> </td>   \n",
       "</tr>\n",
       "<tr>\n",
       "  <th>Covariance Type:</th>      <td>nonrobust</td>    <th>                     </th>     <td> </td>   \n",
       "</tr>\n",
       "</table>\n",
       "<table class=\"simpletable\">\n",
       "<tr>\n",
       "    <td></td>       <th>coef</th>     <th>std err</th>      <th>t</th>      <th>P>|t|</th>  <th>[0.025</th>    <th>0.975]</th>  \n",
       "</tr>\n",
       "<tr>\n",
       "  <th>const</th> <td>    5.5226</td> <td>    4.431</td> <td>    1.246</td> <td> 0.268</td> <td>   -5.867</td> <td>   16.912</td>\n",
       "</tr>\n",
       "<tr>\n",
       "  <th>x1</th>    <td>    0.4471</td> <td>    0.285</td> <td>    1.567</td> <td> 0.178</td> <td>   -0.286</td> <td>    1.180</td>\n",
       "</tr>\n",
       "<tr>\n",
       "  <th>x2</th>    <td>    0.2550</td> <td>    0.453</td> <td>    0.563</td> <td> 0.598</td> <td>   -0.910</td> <td>    1.420</td>\n",
       "</tr>\n",
       "</table>\n",
       "<table class=\"simpletable\">\n",
       "<tr>\n",
       "  <th>Omnibus:</th>       <td> 0.561</td> <th>  Durbin-Watson:     </th> <td>   3.268</td>\n",
       "</tr>\n",
       "<tr>\n",
       "  <th>Prob(Omnibus):</th> <td> 0.755</td> <th>  Jarque-Bera (JB):  </th> <td>   0.534</td>\n",
       "</tr>\n",
       "<tr>\n",
       "  <th>Skew:</th>          <td> 0.380</td> <th>  Prob(JB):          </th> <td>   0.766</td>\n",
       "</tr>\n",
       "<tr>\n",
       "  <th>Kurtosis:</th>      <td> 1.987</td> <th>  Cond. No.          </th> <td>    80.1</td>\n",
       "</tr>\n",
       "</table><br/><br/>Warnings:<br/>[1] Standard Errors assume that the covariance matrix of the errors is correctly specified."
      ],
      "text/plain": [
       "<class 'statsmodels.iolib.summary.Summary'>\n",
       "\"\"\"\n",
       "                            OLS Regression Results                            \n",
       "==============================================================================\n",
       "Dep. Variable:                      y   R-squared:                       0.862\n",
       "Model:                            OLS   Adj. R-squared:                  0.806\n",
       "Method:                 Least Squares   F-statistic:                     15.56\n",
       "Date:                Wed, 19 Feb 2020   Prob (F-statistic):            0.00713\n",
       "Time:                        10:54:42   Log-Likelihood:                -24.316\n",
       "No. Observations:                   8   AIC:                             54.63\n",
       "Df Residuals:                       5   BIC:                             54.87\n",
       "Df Model:                           2                                         \n",
       "Covariance Type:            nonrobust                                         \n",
       "==============================================================================\n",
       "                 coef    std err          t      P>|t|      [0.025      0.975]\n",
       "------------------------------------------------------------------------------\n",
       "const          5.5226      4.431      1.246      0.268      -5.867      16.912\n",
       "x1             0.4471      0.285      1.567      0.178      -0.286       1.180\n",
       "x2             0.2550      0.453      0.563      0.598      -0.910       1.420\n",
       "==============================================================================\n",
       "Omnibus:                        0.561   Durbin-Watson:                   3.268\n",
       "Prob(Omnibus):                  0.755   Jarque-Bera (JB):                0.534\n",
       "Skew:                           0.380   Prob(JB):                        0.766\n",
       "Kurtosis:                       1.987   Cond. No.                         80.1\n",
       "==============================================================================\n",
       "\n",
       "Warnings:\n",
       "[1] Standard Errors assume that the covariance matrix of the errors is correctly specified.\n",
       "\"\"\""
      ]
     },
     "execution_count": 94,
     "metadata": {},
     "output_type": "execute_result"
    }
   ],
   "source": [
    "#Script 1.9\n",
    "# import modules\n",
    "import numpy as np\n",
    "import statsmodels.api as sm\n",
    "X = [[0, 1], [5, 1], [15, 2], [25, 5], [35, 11], [45, 15], [55, 34], [60, 35]] # create a matrix of independent variables\n",
    "Y = [4, 5, 20, 14, 32, 22, 38, 43]# create an array of the dependent variable\n",
    "X = sm.add_constant(X)# Add the intercept\n",
    "model = sm.OLS(Y, X).fit()# fit an ordinary regression model\n",
    "model.summary()# The summary includes several goodness-of-fit measures\n"
   ]
  },
  {
   "cell_type": "code",
   "execution_count": 83,
   "metadata": {},
   "outputs": [],
   "source": []
  },
  {
   "cell_type": "code",
   "execution_count": null,
   "metadata": {},
   "outputs": [],
   "source": []
  },
  {
   "cell_type": "code",
   "execution_count": 96,
   "metadata": {},
   "outputs": [],
   "source": []
  },
  {
   "cell_type": "code",
   "execution_count": null,
   "metadata": {},
   "outputs": [],
   "source": []
  },
  {
   "cell_type": "code",
   "execution_count": null,
   "metadata": {},
   "outputs": [],
   "source": []
  },
  {
   "cell_type": "code",
   "execution_count": null,
   "metadata": {},
   "outputs": [],
   "source": []
  },
  {
   "cell_type": "code",
   "execution_count": null,
   "metadata": {},
   "outputs": [],
   "source": []
  },
  {
   "cell_type": "code",
   "execution_count": null,
   "metadata": {},
   "outputs": [],
   "source": []
  },
  {
   "cell_type": "code",
   "execution_count": null,
   "metadata": {},
   "outputs": [],
   "source": []
  }
 ],
 "metadata": {
  "kernelspec": {
   "display_name": "Python 3",
   "language": "python",
   "name": "python3"
  },
  "language_info": {
   "codemirror_mode": {
    "name": "ipython",
    "version": 3
   },
   "file_extension": ".py",
   "mimetype": "text/x-python",
   "name": "python",
   "nbconvert_exporter": "python",
   "pygments_lexer": "ipython3",
   "version": "3.7.4"
  }
 },
 "nbformat": 4,
 "nbformat_minor": 2
}
